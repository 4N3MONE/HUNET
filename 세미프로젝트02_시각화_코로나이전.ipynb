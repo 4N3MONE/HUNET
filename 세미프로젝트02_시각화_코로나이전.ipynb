{
 "metadata": {
  "language_info": {
   "codemirror_mode": {
    "name": "ipython",
    "version": 3
   },
   "file_extension": ".py",
   "mimetype": "text/x-python",
   "name": "python",
   "nbconvert_exporter": "python",
   "pygments_lexer": "ipython3",
   "version": "3.6.8-final"
  },
  "orig_nbformat": 2,
  "kernelspec": {
   "name": "python3",
   "display_name": "Python 3"
  }
 },
 "nbformat": 4,
 "nbformat_minor": 2,
 "cells": [
  {
   "cell_type": "code",
   "execution_count": 77,
   "metadata": {},
   "outputs": [
    {
     "output_type": "execute_result",
     "data": {
      "text/plain": [
       "  name         lon        lat  Freq\n",
       "0   서울  126.977969  37.566535   232\n",
       "1   여수  126.404260  36.322569   180\n",
       "2   제주  126.531188  33.499621   178\n",
       "3   통영  128.433180  34.854423   137\n",
       "4  강원도  128.155000  37.822800   136"
      ],
      "text/html": "<div>\n<style scoped>\n    .dataframe tbody tr th:only-of-type {\n        vertical-align: middle;\n    }\n\n    .dataframe tbody tr th {\n        vertical-align: top;\n    }\n\n    .dataframe thead th {\n        text-align: right;\n    }\n</style>\n<table border=\"1\" class=\"dataframe\">\n  <thead>\n    <tr style=\"text-align: right;\">\n      <th></th>\n      <th>name</th>\n      <th>lon</th>\n      <th>lat</th>\n      <th>Freq</th>\n    </tr>\n  </thead>\n  <tbody>\n    <tr>\n      <th>0</th>\n      <td>서울</td>\n      <td>126.977969</td>\n      <td>37.566535</td>\n      <td>232</td>\n    </tr>\n    <tr>\n      <th>1</th>\n      <td>여수</td>\n      <td>126.404260</td>\n      <td>36.322569</td>\n      <td>180</td>\n    </tr>\n    <tr>\n      <th>2</th>\n      <td>제주</td>\n      <td>126.531188</td>\n      <td>33.499621</td>\n      <td>178</td>\n    </tr>\n    <tr>\n      <th>3</th>\n      <td>통영</td>\n      <td>128.433180</td>\n      <td>34.854423</td>\n      <td>137</td>\n    </tr>\n    <tr>\n      <th>4</th>\n      <td>강원도</td>\n      <td>128.155000</td>\n      <td>37.822800</td>\n      <td>136</td>\n    </tr>\n  </tbody>\n</table>\n</div>"
     },
     "metadata": {},
     "execution_count": 77
    }
   ],
   "source": [
    "import pandas as pd\n",
    "\n",
    "df = pd.read_csv(\"c:\\\\tmp\\\\wordcount_geojson_코로나이전.csv\", encoding=\"UTF-8\")\n",
    "df.head()"
   ]
  },
  {
   "cell_type": "code",
   "execution_count": 88,
   "metadata": {},
   "outputs": [
    {
     "output_type": "execute_result",
     "data": {
      "text/plain": [
       "{'type': 'file',\n",
       " 'filename': 'c:\\\\tmp\\\\wordcount_geojson_코로나이전.geojson',\n",
       " 'feature_count': 17}"
      ]
     },
     "metadata": {},
     "execution_count": 88
    }
   ],
   "source": [
    "from mapboxgl.utils import df_to_geojson\n",
    "\n",
    "geo_data = df_to_geojson(\n",
    "    df=df,\n",
    "    lat='lat',\n",
    "    lon='lon',\n",
    "    filename = 'c:\\\\tmp\\\\wordcount_geojson_코로나이전.geojson'\n",
    ")\n",
    "\n",
    "geo_data"
   ]
  },
  {
   "cell_type": "code",
   "execution_count": 90,
   "metadata": {},
   "outputs": [],
   "source": [
    "import mapboxgl\n",
    "#print(mapboxgl._version_)\n",
    "\n",
    "from mapboxgl.viz import *\n",
    "\n",
    "import json\n",
    "json_data = \"c:\\\\tmp\\\\wordcount_geojson_코로나이전.geojson\"\n",
    "with open(json_data, encoding=\"UTF-8\") as f :\n",
    "    data = json.loads(f.read())"
   ]
  },
  {
   "cell_type": "code",
   "execution_count": 106,
   "metadata": {},
   "outputs": [
    {
     "output_type": "display_data",
     "data": {
      "text/plain": "<IPython.core.display.HTML object>",
      "text/html": "<iframe id=\"map\", srcdoc=\"<!DOCTYPE html>\n<html>\n<head>\n<title>mapboxgl-jupyter viz</title>\n<meta charset='UTF-8' />\n<meta name='viewport'\n      content='initial-scale=1,maximum-scale=1,user-scalable=no' />\n<script type='text/javascript'\n        src='https://api.tiles.mapbox.com/mapbox-gl-js/v1.0.0/mapbox-gl.js'></script>\n<link type='text/css'\n      href='https://api.tiles.mapbox.com/mapbox-gl-js/v1.0.0/mapbox-gl.css' \n      rel='stylesheet' />\n\n<style type='text/css'>\n    body { margin:0; padding:0; }\n    .map { position: absolute; top:0; bottom:0; width:100%; }\n    .legend {\n        background-color: white;\n        color: #6e6e6e;\n        border-radius: 3px;\n        bottom: 10px;\n        box-shadow: 0 1px 2px rgba(0, 0, 0, 0.10);\n        font: 12px/20px 'Helvetica Neue', Arial, Helvetica, sans-serif;\n        padding: 0;\n        position: absolute;\n        right: 10px;\n        z-index: 1;\n        min-width: 100px;\n    }\n   .legend.horizontal {bottom: 10px; text-align: left;}\n\n    /* legend header */\n    .legend .legend-header { border-radius: 3px 3px 0 0; background: white; }\n    .legend .legend-title {\n        padding: 6px 12px 6px 12px;\n        text-shadow: 0 0 2px white;\n        text-transform: capitalize;\n        text-align: center;\n        font-weight: bold !important;\n        font-size: 14px;\n        font: 12px/20px 'Helvetica Neue', Arial, Helvetica, sans-serif;\n        max-width: 160px;\n    }\n    .legend-title {padding: 6px 12px 6px 12px; text-shadow: 0 0 2px #FFF; text-transform: capitalize; text-align: center; max-width: 160px; font-size: 0.9em; font-weight: bold;}\n    .legend.horizontal .legend-title {text-align: left;}\n\n    /* legend items */\n    .legend-content {margin: 6px 12px 6px 12px; overflow: hidden; padding: 0; float: left; list-style: none; font-size: 0.8em;}\n    .legend.vertical .legend-item {white-space: nowrap;}\n    .legend-value {display: inline-block; line-height: 18px; vertical-align: top;}\n    .legend.horizontal ul.legend-content li.legend-item .legend-value,\n    .legend.horizontal ul.legend-content li.legend-item {display: inline-block; float: left; width: 30px; margin-bottom: 0; text-align: center; min-height: 30px;}\n\n    /* legend key styles */\n    .legend-key {display: inline-block; height: 10px;}\n    .legend-key.default, .legend-key.square {border-radius: 0;}\n    .legend-key.circle {border-radius: 50%;}\n    .legend-key.rounded-square {border-radius: 20%;}\n    .legend.vertical .legend-key {width: 10px; margin-right: 5px; margin-left: 1px;}\n    .legend.horizontal .legend-key {width: 30px; margin-right: 0; margin-top: 1px; float: left;}\n    .legend.horizontal .legend-key.square, .legend.horizontal .legend-key.rounded-square, .legend.horizontal .legend-key.circle {margin-left: 10px; width: 10px;}\n    .legend.horizontal .legend-key.line {margin-left: 5px;}\n    .legend.horizontal .legend-key.line, .legend.vertical .legend-key.line {border-radius: 10%; width: 20px; height: 3px; margin-bottom: 2px;}\n\n    /* gradient bar alignment */\n    .gradient-bar {margin: 6px 12px 6px 12px;}\n    .legend.horizontal .gradient-bar {width: 88%; height: 10px;}\n    .legend.vertical .gradient-bar {width: 10px; min-height: 50px; position: absolute; bottom: 4px;}\n\n    /* contiguous vertical bars (discrete) */\n    .legend.vertical.contig .legend-key {height: 15px; width: 10px;}\n    .legend.vertical.contig li.legend-item {height: 15px;}\n    .legend.vertical.contig {padding-bottom: 6px;}\n\n    /* vertical radius legend */\n    .legend.horizontal.legend-variable-radius ul.legend-content li.legend-item .legend-value,\n    .legend.horizontal.legend-variable-radius ul.legend-content li.legend-item {width: 30px; min-height: 20px;}\n\n    /* scale annotation */\n    .mapboxgl-ctrl.mapboxgl-ctrl-scale { border-color: #6e6e6e; \n                                         background-color: white; \n                                         color: #131516; }\n</style>\n\n\n\n</head>\n<body>\n\n<div id='map' class='map'></div>\n\n<script type='text/javascript'>\n\nvar legendHeader;\n\nfunction calcColorLegend(myColorStops, title) {\n    // create legend\n    var legend = document.createElement('div'),\n        legendContainer = document.getElementsByClassName('mapboxgl-ctrl-bottom-right')[0];\n\n    if ('square' === 'contiguous-bar') {\n        legend.className = 'legend vertical contig';\n    }\n    else {\n        legend.className = 'legend vertical';\n    }\n    legend.id = 'legend-0';\n    document.body.appendChild(legend);\n    // add legend header and content elements\n    var mytitle = document.createElement('div'),\n        legendContent = document.createElement('ul');\n    legendHeader = document.createElement('div');\n    mytitle.textContent = title;\n    mytitle.className = 'legend-title'\n    legendHeader.className = 'legend-header'\n    legendContent.className = 'legend-content'\n    legendHeader.appendChild(mytitle);\n    legend.appendChild(legendHeader);\n    legend.appendChild(legendContent);\n    if (false === true) {\n        var gradientText = 'linear-gradient(to right, ',\n            gradient = document.createElement('div');\n        gradient.className = 'gradient-bar';\n        legend.appendChild(gradient);\n    }\n    // calculate a legend entries on a Mapbox GL Style Spec property function stops array\n    for (p = 0; p < myColorStops.length; p++) {\n        if (!!document.getElementById('legend-color-points-value-' + p)) {\n            // update the legend if it already exists\n            document.getElementById('legend-color-points-value-' + p).textContent = myColorStops[p][0];\n            document.getElementById('legend-color-points-id-' + p).style.backgroundColor = myColorStops[p][1];\n        }\n        else {\n            // create the legend if it doesn't yet exist\n            var item = document.createElement('li');\n            item.className = 'legend-item';\n            var key = document.createElement('span');\n            key.className = 'legend-key square';\n            key.id = 'legend-color-points-id-' + p;\n            key.style.backgroundColor = myColorStops[p][1];\n            var value = document.createElement('span');\n            value.className = 'legend-value';\n            value.id = 'legend-color-points-value-' + p;\n            item.appendChild(key);\n            item.appendChild(value);\n            legendContent.appendChild(item);\n            \n            data = document.getElementById('legend-color-points-value-' + p)\n            // round number values in legend if precision defined\n            if ((typeof(myColorStops[p][0]) == 'number') && (typeof(null) == 'number')) {\n                data.textContent = myColorStops[p][0].toFixed(null);\n            }\n            else {\n                data.textContent = myColorStops[p][0];\n            }\n            // add color stop to gradient list\n            if (false === true) {\n                if (p < myColorStops.length - 1) {\n                    gradientText = gradientText + myColorStops[p][1] + ', ';\n                }\n                else {\n                    gradientText = gradientText + myColorStops[p][1] + ')';\n                }\n                if ('vertical' === 'vertical') {\n                    gradientText = gradientText.replace('to right', 'to bottom');\n                }\n            }\n        }\n    }\n    if (false === true) {\n        // convert to gradient scale appearance\n        gradient.style.background = gradientText;\n        // hide legend keys generated above\n        var keys = document.getElementsByClassName('legend-key');\n        for (var i=0; i < keys.length; i++) {\n            keys[i].style.visibility = 'hidden';\n        }\n        if ('vertical' === 'vertical') {\n            gradient.style.height = (legendContent.offsetHeight - 6) + 'px';\n        }\n    }\n    // add class for styling bordered legend keys\n    if (true) {\n        var keys = document.getElementsByClassName('legend-key');\n        for (var i=0; i < keys.length; i++) {\n            if (keys[i]) {\n                keys[i].classList.add('bordered');\n            }\n        }\n        var gradientBars = document.getElementsByClassName('gradient-bar');\n        for (var i=0; i < keys.length; i++) {\n            if (gradientBars[i]) {\n                gradientBars[i].classList.add('bordered');\n            }\n        }\n    }\n    // update right-margin for compact Mapbox attribution based on calculated legend width\n    updateAttribMargin(legend);\n    updateLegendMargin(legend);\n}\n\n\nfunction calcRadiusLegend(myRadiusStops, title, color) {\n\n    // maximum legend item height\n    var maxLegendItemHeight = 2 * myRadiusStops[myRadiusStops.length - 1][1];\n\n    // create legend\n    var legend = document.createElement('div');\n    legend.className = 'legend vertical legend-variable-radius';\n\n    legend.id = 'legend-1';\n    document.body.appendChild(legend);\n\n    // add legend header and content elements\n    var mytitle = document.createElement('div'),\n        legendContent = document.createElement('ul');\n    legendHeader = document.createElement('div');\n    mytitle.textContent = title;\n    mytitle.className = 'legend-title'\n    legendHeader.className = 'legend-header'\n    legendContent.className = 'legend-content'\n    legendHeader.appendChild(mytitle);\n    legend.appendChild(legendHeader);\n    legend.appendChild(legendContent);\n\n    // calculate a legend entries on a Mapbox GL Style Spec property function stops array\n    for (p = 0; p < myRadiusStops.length; p++) {\n        if (!!document.getElementById('legend-radius-points-value-' + p)) {\n            //update the legend if it already exists\n            document.getElementById('legend-radius-points-value-' + p).textContent = myRadiusStops[p][0];\n            document.getElementById('legend-radius-points-id-' + p).style.backgroundColor = color;\n        }\n        else {\n            // create the legend if it doesn't yet exist\n            var item = document.createElement('li');\n            item.className = 'legend-item';\n            item.height = '' + maxLegendItemHeight + 'px';\n\n            var key = document.createElement('span');\n            key.className = 'legend-key square';\n            key.id = 'legend-radius-points-id-' + p;\n            key.style.backgroundColor = color;   \n\n            key.style.width = '' + myRadiusStops[p][1] * 2 + 'px';\n            key.style.height = '' + myRadiusStops[p][1] * 2 + 'px';\n\n            keyVerticalMargin = (maxLegendItemHeight - myRadiusStops[p][1] * 2) * 0.5;\n            key.style.marginTop = '' + keyVerticalMargin + 'px';\n            key.style.marginBottom = '' + keyVerticalMargin + 'px';\n\n            var value = document.createElement('span');\n            value.className = 'legend-value';\n            value.id = 'legend-radius-points-value-' + p;\n\n            item.appendChild(key);\n            item.appendChild(value);\n            legendContent.appendChild(item);\n            \n            data = document.getElementById('legend-radius-points-value-' + p)\n\n            // round number values in legend if precision defined\n            if ((typeof(myRadiusStops[p][0]) == 'number') && (typeof(null) == 'number')) {\n                data.textContent = myRadiusStops[p][0].toFixed(null);\n            }\n            else {\n                data.textContent = myRadiusStops[p][0];\n            }\n        }\n    }\n\n    // add class for styling bordered legend keys\n    if (true) {\n        var keys = document.getElementsByClassName('legend-key');\n        for (var i=0; i < keys.length; i++) {\n            if (keys[i]) {\n                keys[i].classList.add('bordered');\n            }\n        }\n    }\n\n    // update right-margin for compact Mapbox attribution based on calculated legend width\n    updateAttribMargin(legend);\n    updateLegendMargin(legend);\n\n}\n\n\nfunction updateAttribMargin(legend) {\n\n    // default margin is based on calculated legend width\n    var attribMargin = legend.offsetWidth + 15;\n    \n    // if horizontal legend layout (multiple legends are stacked vertically)\n    if ('vertical' === 'horizontal') {\n        document.getElementsByClassName('mapboxgl-ctrl-attrib')[0].style.marginRight = (attribMargin).toString() + 'px';\n    }\n    // vertical legend layout means multiple legends are side-by-side\n    else if ('vertical' === 'vertical') {\n        var currentMargin = Number(document.getElementsByClassName('mapboxgl-ctrl-attrib')[0].style.marginRight.replace('px', ''));\n        document.getElementsByClassName('mapboxgl-ctrl-attrib')[0].style.marginRight = (attribMargin + currentMargin).toString() + 'px';\n    }\n}\n\n\nfunction updateLegendMargin(legend) {\n\n    var verticalLegends = document.getElementsByClassName('legend vertical'),\n        horizontalLegends = document.getElementsByClassName('legend horizontal');\n\n    if (verticalLegends.length > 1) {\n        for (i = 1; i < verticalLegends.length; i++) {\n            verticalLegends[i].style.marginRight = (legend.offsetWidth - 5).toString() + 'px';\n            var legend = verticalLegends[i];\n        }\n    }\n    else if (horizontalLegends.length > 1) {\n        for (i = 1; i < horizontalLegends.length; i++) {\n            horizontalLegends[i].style.marginBottom = (legend.offsetHeight + 15).toString() + 'px';\n            var legend = horizontalLegends[i];\n        }\n    }\n}\n\n\nfunction generateInterpolateExpression(propertyValue, stops) {\n    var expression;\n    if (propertyValue == 'zoom') {\n        expression = ['interpolate', ['exponential', 1.2], ['zoom']]\n    }\n    else if (propertyValue == 'heatmap-density') {\n        expression = ['interpolate', ['linear'], ['heatmap-density']]\n    }\n    else {\n        expression = ['interpolate', ['linear'], ['get', propertyValue]]\n    }\n\n    for (var i=0; i<stops.length; i++) {\n        expression.push(stops[i][0], stops[i][1])\n    }\n    return expression\n}\n\n\nfunction generateMatchExpression(propertyValue, stops, defaultValue) {\n    var expression;\n    expression = ['match', ['get', propertyValue]]\n    for (var i=0; i<stops.length; i++) {\n        expression.push(stops[i][0], stops[i][1])\n    }\n    expression.push(defaultValue)\n    \n    return expression\n}\n\n\nfunction generatePropertyExpression(expressionType, propertyValue, stops, defaultValue) {\n    var expression;\n    if (expressionType == 'match') {\n        expression = generateMatchExpression(propertyValue, stops, defaultValue)\n    }\n    else if (propertyValue == 'identity') {\n        expression = ['get', propertyValue]\n    }\n    else {\n        expression = generateInterpolateExpression(propertyValue, stops)\n    }\n\n    return expression\n}\n\n</script>\n\n<!-- main map creation code, extended by mapboxgl/templates/heatmap.html -->\n<script type='text/javascript'>\n\n    mapboxgl.accessToken = 'pk.eyJ1IjoiNG4zbW9uZSIsImEiOiJja2cwZDIwYWIwMWJ3MnhvN3ExcHpsOWp5In0.X7Rm9bwcT3UBc0h_5oEu2A';\n\n    var transformRequest = function(url, resourceType) {\n        const isMapboxRequest = url.slice(8, 22) === 'api.mapbox.com' ||\n          url.slice(10, 26) === 'tiles.mapbox.com';\n      \n        return {\n          url: isMapboxRequest ? url.replace('?', '?pluginName=PythonMapboxgl&') : url\n        }\n    };\n\n    var map = new mapboxgl.Map({\n        container: 'map',\n        attributionControl: false,\n        style: 'mapbox://styles/mapbox/light-v10?optimize=true',\n        center: [127.93, 36.415],\n        zoom: 6,\n        pitch: 0,\n        bearing: 0,\n        scrollZoom: true,\n        touchZoom: true,\n        doubleClickZoom: true,\n        boxZoom: true,\n        preserveDrawingBuffer: false,\n        transformRequest: transformRequest\n    });\n\n    \n    \n        map.addControl(new mapboxgl.AttributionControl({ compact: true }));\n\n    \n\n    \n\n        map.addControl(new mapboxgl.NavigationControl());\n\n    \n\n    \n\n    \n        \n        \n\n    \n\n    \n\n    map.on('style.load', function() {\n\n    \n\n        map.addSource('data', {\n            'type': 'geojson',\n            'data': {'type': 'FeatureCollection', 'features': [{'type': 'Feature', 'geometry': {'type': 'Point', 'coordinates': [126.977969, 37.566535]}, 'properties': {'name': '서울', 'Freq': 232}}, {'type': 'Feature', 'geometry': {'type': 'Point', 'coordinates': [126.40426, 36.322569]}, 'properties': {'name': '여수', 'Freq': 180}}, {'type': 'Feature', 'geometry': {'type': 'Point', 'coordinates': [126.531188, 33.499621]}, 'properties': {'name': '제주', 'Freq': 178}}, {'type': 'Feature', 'geometry': {'type': 'Point', 'coordinates': [128.43318, 34.854423]}, 'properties': {'name': '통영', 'Freq': 137}}, {'type': 'Feature', 'geometry': {'type': 'Point', 'coordinates': [128.155, 37.8228]}, 'properties': {'name': '강원도', 'Freq': 136}}, {'type': 'Feature', 'geometry': {'type': 'Point', 'coordinates': [129.075642, 35.179554]}, 'properties': {'name': '부산', 'Freq': 100}}, {'type': 'Feature', 'geometry': {'type': 'Point', 'coordinates': [129.31135, 35.538377]}, 'properties': {'name': '울산', 'Freq': 96}}, {'type': 'Feature', 'geometry': {'type': 'Point', 'coordinates': [127.48756, 37.491219]}, 'properties': {'name': '양평', 'Freq': 92}}, {'type': 'Feature', 'geometry': {'type': 'Point', 'coordinates': [126.392166, 34.811835]}, 'properties': {'name': '목포', 'Freq': 88}}, {'type': 'Feature', 'geometry': {'type': 'Point', 'coordinates': [129.22474, 35.856172]}, 'properties': {'name': '경주', 'Freq': 83}}, {'type': 'Feature', 'geometry': {'type': 'Point', 'coordinates': [127.119153, 36.446535]}, 'properties': {'name': '공주', 'Freq': 83}}, {'type': 'Feature', 'geometry': {'type': 'Point', 'coordinates': [128.624055, 36.805686]}, 'properties': {'name': '영주', 'Freq': 70}}, {'type': 'Feature', 'geometry': {'type': 'Point', 'coordinates': [126.994, 37.578771]}, 'properties': {'name': '창경궁', 'Freq': 67}}, {'type': 'Feature', 'geometry': {'type': 'Point', 'coordinates': [128.59184, 38.207015]}, 'properties': {'name': '속초', 'Freq': 65}}, {'type': 'Feature', 'geometry': {'type': 'Point', 'coordinates': [127.487213, 34.950637]}, 'properties': {'name': '순천', 'Freq': 59}}, {'type': 'Feature', 'geometry': {'type': 'Point', 'coordinates': [129.37, 35.537222]}, 'properties': {'name': '태화강', 'Freq': 59}}, {'type': 'Feature', 'geometry': {'type': 'Point', 'coordinates': [126.5269, 34.300253]}, 'properties': {'name': '땅끝마을', 'Freq': 57}}]}, //data from dataframe output to geojson\n            'buffer': 0,\n            'maxzoom': 14\n        });\n\n        map.addLayer({\n            'id': 'heatmap',\n            'source': 'data',\n            'type': 'heatmap',\n            'maxzoom': 24,\n            'minzoom': 0,\n            'paint': {\n                \n                    'heatmap-radius': generatePropertyExpression('interpolate', 'zoom', [[10, 30.0], [12, 35.71], [14, 41.43], [16, 47.14], [18, 52.86], [20, 58.57], [22, 64.29]]),\n                \n                \n                    'heatmap-weight': generateInterpolateExpression( 'Freq', [[0, 0.0], [50, 0.17], [100, 0.33], [150, 0.5], [200, 0.67], [225, 0.83]] ),\n                \n                \n                \n                    'heatmap-color' : generateInterpolateExpression('heatmap-density', [[1e-05, 'rgba(0,0,0,0)'], [0.3, 'rgb(255,255,178)'], [0.4, 'rgb(254,217,118)'], [0.5, 'rgb(254,178,76)'], [0.6, 'rgb(253,141,60)'], [0.7, 'rgb(240,59,32)'], [0.8, 'rgb(189,0,38)']] ),\n                \n                'heatmap-opacity' : 1\n            }\n        }, '' );\n    \n    \n\n    });\n\n\n\n</script>\n\n<!-- add capability to export map or legend to image file -->\n\n\n</body>\n</html>\" style=\"width: 100%; height: 500px;\"></iframe>"
     },
     "metadata": {}
    }
   ],
   "source": [
    "import os\n",
    "from mapboxgl.utils import *\n",
    "\n",
    "token = 'pk.eyJ1IjoiNG4zbW9uZSIsImEiOiJja2cwZDIwYWIwMWJ3MnhvN3ExcHpsOWp5In0.X7Rm9bwcT3UBc0h_5oEu2A'\n",
    "\n",
    "center =[127.93, 36.415]\n",
    "\n",
    "# color_breaks = [0,50,75,100,125,150,175,200,225]\n",
    "# color_stops = create_color_stops(color_breaks, colors=\"OrRd\")\n",
    "\n",
    "# viz = GraduatedCircleViz(\n",
    "#     data,\n",
    "#     access_token=token,\n",
    "#     color_property='Freq',\n",
    "#     color_stops = create_color_stops([0,50,75,100,125,150,175,200,225],colors=\"OrRd\"),\n",
    "#     radius_property = 'Freq',\n",
    "#     radius_stops=create_radius_stops([0,300,600,900,1200,1500,1800,2100,2400], 0, 8),\n",
    "#     center=center,\n",
    "#     zoom=7)\n",
    "\n",
    "viz = HeatmapViz(\n",
    "    data,\n",
    "    access_token = token,\n",
    "    weight_property = \"Freq\",\n",
    "    weight_stops = create_numeric_stops([0,50,100,150,200,225],0,1),\n",
    "    color_stops = create_color_stops([0.3,0.4,0.5,0.6,0.7,0.8],colors='YlOrRd'),\n",
    "    radius_stops = create_numeric_stops([10,12,14,16,18,20,22],30,70),\n",
    "    center=center,\n",
    "    zoom=6\n",
    ")\n",
    "with open('viz_beforecorona.html', 'w') as x:\n",
    "    x.write(viz.create_html())\n",
    "viz.show()\n"
   ]
  },
  {
   "cell_type": "code",
   "execution_count": null,
   "metadata": {},
   "outputs": [],
   "source": []
  }
 ]
}